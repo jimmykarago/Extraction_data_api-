{
 "cells": [
  {
   "cell_type": "code",
   "execution_count": 33,
   "id": "6fb6a289",
   "metadata": {},
   "outputs": [],
   "source": [
    "import urllib.request, urllib.parse, urllib.error #Used to access , request and parse urls\n",
    "import json # Used to parse the json file format found in the url \n",
    "import psycopg2 # Postgresql database adapter used in storing data into a postgresql database "
   ]
  },
  {
   "cell_type": "code",
   "execution_count": 37,
   "id": "8fa6ff0f",
   "metadata": {},
   "outputs": [],
   "source": [
    "# Creating database and tables within the database \n",
    "\n",
    "conn = psycopg2.connect(\n",
    "    host=\"localhost\",\n",
    "    database=\"f1_9\",\n",
    "    user=\"postgres\",\n",
    "    password=\"xxxxxx\",\n",
    "    port = 5433)\n",
    "\n",
    "cur = conn.cursor()\n",
    "cur.execute('''\n",
    "Create Table If NOT exists Driver (\n",
    "    id SERIAL PRIMARY KEY,\n",
    "    driver_name TEXT Unique\n",
    " );\n",
    "\n",
    "create Table if Not exists races (\n",
    "    id SERIAL PRIMARY KEY,\n",
    "    driver_id INTEGER,\n",
    "    track VARCHAR,\n",
    "    points INTEGER,\n",
    "    position INTEGER,\n",
    "    race_times VARCHAR,\n",
    "    constructor VARCHAR\n",
    ");\n",
    "''')\n",
    "conn.commit()\n"
   ]
  },
  {
   "cell_type": "code",
   "execution_count": 38,
   "id": "a417b3b4",
   "metadata": {},
   "outputs": [],
   "source": [
    "race_standings = range(1,11) # This is a range of the 10 positions interested in \n",
    "tracks = range(0,22) # This is the number of tracks that were in the season "
   ]
  },
  {
   "cell_type": "code",
   "execution_count": 39,
   "id": "fd671ac8",
   "metadata": {},
   "outputs": [],
   "source": [
    "# API URL \n",
    "service_urls = list()\n",
    "for i in race_standings:\n",
    "    service_url = f\"http://ergast.com/api/f1/2022/results/{i}.json\"\n",
    "    service_urls.append(service_url)"
   ]
  },
  {
   "cell_type": "code",
   "execution_count": 40,
   "id": "b3de9bee",
   "metadata": {},
   "outputs": [],
   "source": [
    "# Inserting specific values from the url to the database \n",
    "\n",
    "for i in service_urls:\n",
    "    uh = urllib.request.urlopen(i)\n",
    "    data = uh.read().decode()\n",
    "    datas = json.loads(data)\n",
    "    \n",
    "    for r in tracks:\n",
    "        driver_name = datas['MRData']['RaceTable']['Races'][r]['Results'][0]['Driver']['driverId']\n",
    "        driver_id = datas['MRData']['RaceTable']['Races'][r]['Results'][0]['Driver']['permanentNumber']\n",
    "        constructor_name = datas['MRData']['RaceTable']['Races'][r]['Results'][0]['Constructor']['name']\n",
    "        position = datas['MRData']['RaceTable']['Races'][r]['Results'][0]['position']\n",
    "        track =  datas['MRData']['RaceTable']['Races'][r]['Circuit']['circuitId']\n",
    "        points =  datas['MRData']['RaceTable']['Races'][r]['Results'][0]['points']\n",
    "        cur.execute('INSERT INTO Driver (id,driver_name) VALUES (%s,%s) ON CONFLICT DO NOTHING',(driver_id,driver_name))\n",
    "        cur.execute('INSERT INTO races (driver_id, track, points,position, race_times, constructor) VALUES (%s,%s,%s,%s,%s,%s)',(driver_id,track,points, position, race_time,constructor_name))\n",
    "        conn.commit()\n"
   ]
  }
 ],
 "metadata": {
  "kernelspec": {
   "display_name": "Python 3 (ipykernel)",
   "language": "python",
   "name": "python3"
  },
  "language_info": {
   "codemirror_mode": {
    "name": "ipython",
    "version": 3
   },
   "file_extension": ".py",
   "mimetype": "text/x-python",
   "name": "python",
   "nbconvert_exporter": "python",
   "pygments_lexer": "ipython3",
   "version": "3.9.12"
  }
 },
 "nbformat": 4,
 "nbformat_minor": 5
}
